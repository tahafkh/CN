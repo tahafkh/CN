{
 "cells": [
  {
   "cell_type": "code",
   "execution_count": 97,
   "id": "e2468280-a02e-44a5-a09f-8a3866983de1",
   "metadata": {},
   "outputs": [],
   "source": [
    "import numpy as np\n",
    "import pandas as pd\n",
    "import matplotlib.pyplot as plt\n",
    "import itertools as it\n",
    "\n",
    "import re\n",
    "import os"
   ]
  },
  {
   "cell_type": "code",
   "execution_count": 98,
   "id": "9d947088-dee3-436b-b738-c7f7e87e6b16",
   "metadata": {},
   "outputs": [],
   "source": [
    "FILE = 'wireless'\n",
    "TOTAL_TIME = 100"
   ]
  },
  {
   "cell_type": "code",
   "execution_count": 99,
   "id": "203925dc-ea40-4d6f-b4da-ba20fe5bc9a3",
   "metadata": {},
   "outputs": [],
   "source": [
    "def get_logs(file_name=FILE+'.tr'):\n",
    "    with open(file_name, 'r') as trace:\n",
    "        logs = [re.split(' |\\t', line.strip()) for line in trace]\n",
    "    return logs"
   ]
  },
  {
   "cell_type": "code",
   "execution_count": 100,
   "id": "10813aea-cafb-4e82-8442-9c62f1a3c25c",
   "metadata": {},
   "outputs": [],
   "source": [
    "def make_node(node):\n",
    "    return '_' + str(ord(node) - ord('A')) + '_'\n",
    "\n",
    "def is_destination_recieve(log):\n",
    "    return log[0] == 'r' and (log[2] == make_node('H') or log[2] == make_node('I')) and log[3] == 'AGT' and log[7] == 'cbr'\n",
    "\n",
    "def is_source_send(log):\n",
    "    return log[0] == 's' and (log[2] == make_node('A') or log[2] == make_node('D')) and log[3] == 'AGT' and log[7] == 'cbr'"
   ]
  },
  {
   "cell_type": "code",
   "execution_count": 101,
   "id": "ca47b687-b468-474d-becb-7f830d6e29cf",
   "metadata": {},
   "outputs": [],
   "source": [
    "def calculate_throughput(logs, packet_size):\n",
    "    recieves = 0\n",
    "    for log in logs:\n",
    "        if is_destination_recieve(log):\n",
    "            recieves += 1\n",
    "    return packet_size * recieves / TOTAL_TIME"
   ]
  },
  {
   "cell_type": "code",
   "execution_count": 102,
   "id": "64e0d481-84ee-4d1c-87cf-d94f3d72ae34",
   "metadata": {},
   "outputs": [],
   "source": [
    "def calculate_PTR(logs):\n",
    "    recieves = 0\n",
    "    sends = 0\n",
    "    for log in logs:\n",
    "        if is_destination_recieve(log):\n",
    "            recieves += 1\n",
    "        elif is_source_send(log):\n",
    "            sends += 1\n",
    "    return recieves / sends"
   ]
  },
  {
   "cell_type": "code",
   "execution_count": 103,
   "id": "4565cc75-929a-4d1b-bcb8-93c35843c600",
   "metadata": {},
   "outputs": [],
   "source": [
    "def calculate_delay(logs):\n",
    "    delay = 0\n",
    "    recieves = 0\n",
    "    start_time = {}\n",
    "    for log in logs:\n",
    "        if is_destination_recieve(log):\n",
    "            delay += float(log[1]) - start_time[log[6]]\n",
    "            recieves += 1\n",
    "        elif is_source_send(log):\n",
    "            start_time[log[6]] = float(log[1])\n",
    "    return delay / recieves"
   ]
  },
  {
   "cell_type": "code",
   "execution_count": 104,
   "id": "b0f85445-c92d-47f4-9ebe-f97ea480fb09",
   "metadata": {},
   "outputs": [],
   "source": [
    "def prepare_cmd(initial_cmd, bandwidth, error_rate, packet_size):\n",
    "    initial_cmd += str(bandwidth) + 'Mb '\n",
    "    initial_cmd += str(error_rate) + ' '\n",
    "    initial_cmd += str(packet_size) + 'Kb'\n",
    "    return initial_cmd"
   ]
  },
  {
   "cell_type": "code",
   "execution_count": 114,
   "id": "29b2a392-13e7-431f-bcda-968663f557db",
   "metadata": {},
   "outputs": [],
   "source": [
    "def delete_outputs(file=FILE):\n",
    "    if os.path.exists(file+'.nam'):\n",
    "        os.remove(file+'.nam')\n",
    "    if os.path.exists(file+'.tr'):\n",
    "        os.remove(file+'.tr')"
   ]
  },
  {
   "cell_type": "code",
   "execution_count": 122,
   "id": "bf06a748-8adc-4669-873d-3026389a3107",
   "metadata": {},
   "outputs": [],
   "source": [
    "results = pd.DataFrame(columns = ['Bandwidth(Mb/s)', 'Error Rate', 'Packet Size(Kb)', 'Throughput', 'PTR', 'Average End-To-End Delay'])"
   ]
  },
  {
   "cell_type": "code",
   "execution_count": 126,
   "id": "b2fa9099-dfbe-4fd6-b2c9-9cfae28d67b6",
   "metadata": {},
   "outputs": [],
   "source": [
    "def run(tcl=FILE+'.tcl'):\n",
    "    global results\n",
    "    bandwidths = np.array([1.5, 15, 55])\n",
    "    error_rates = np.linspace(0.001, 0.01, 10)\n",
    "    packet_sizes = np.array([64, 256, 512])\n",
    "    initial_cmd = 'ns ' + tcl + ' '\n",
    "    i = 0\n",
    "    for bandwidth, error_rate, packet_size in it.product(bandwidths, error_rates, packet_sizes):\n",
    "        cmd = prepare_cmd(initial_cmd, bandwidth, error_rate, packet_size)\n",
    "        print(cmd)\n",
    "        os.system(cmd)\n",
    "        \n",
    "        logs = get_logs()\n",
    "        throughput = calculate_throughput(logs, packet_size)\n",
    "        PTR = calculate_PTR(logs)\n",
    "        delay = calculate_delay(logs)\n",
    "        results.loc[i] = [bandwidth, error_rate, packet_size, throughput, PTR, delay]\n",
    "        \n",
    "        i += 1\n",
    "        delete_outputs()"
   ]
  },
  {
   "cell_type": "code",
   "execution_count": 127,
   "id": "36cb6a38-168c-4b57-9ee6-10e595c66fc5",
   "metadata": {},
   "outputs": [
    {
     "name": "stdout",
     "output_type": "stream",
     "text": [
      "ns wireless.tcl 1.5Mb 0.001 64Kb\n",
      "Starting Simulation...\n"
     ]
    },
    {
     "name": "stderr",
     "output_type": "stream",
     "text": [
      "warning: Please use -channel as shown in tcl/ex/wireless-mitf.tcl\n",
      "INITIALIZE THE LIST xListHead\n",
      "SORTING LISTS ...DONE!\n"
     ]
    },
    {
     "name": "stdout",
     "output_type": "stream",
     "text": [
      "num_nodes is set 9\n",
      "channel.cc:sendUp - Calc highestAntennaZ_ and distCST_\n",
      "highestAntennaZ_ = 1.5,  distCST_ = 550.0\n",
      "ns wireless.tcl 1.5Mb 0.001 256Kb\n",
      "Starting Simulation...\n"
     ]
    },
    {
     "name": "stderr",
     "output_type": "stream",
     "text": [
      "warning: Please use -channel as shown in tcl/ex/wireless-mitf.tcl\n",
      "INITIALIZE THE LIST xListHead\n",
      "SORTING LISTS ...DONE!\n"
     ]
    },
    {
     "name": "stdout",
     "output_type": "stream",
     "text": [
      "num_nodes is set 9\n",
      "channel.cc:sendUp - Calc highestAntennaZ_ and distCST_\n",
      "highestAntennaZ_ = 1.5,  distCST_ = 550.0\n",
      "ns wireless.tcl 1.5Mb 0.001 512Kb\n",
      "Starting Simulation...\n"
     ]
    },
    {
     "name": "stderr",
     "output_type": "stream",
     "text": [
      "warning: Please use -channel as shown in tcl/ex/wireless-mitf.tcl\n",
      "INITIALIZE THE LIST xListHead\n",
      "SORTING LISTS ...DONE!\n"
     ]
    },
    {
     "name": "stdout",
     "output_type": "stream",
     "text": [
      "num_nodes is set 9\n",
      "channel.cc:sendUp - Calc highestAntennaZ_ and distCST_\n",
      "highestAntennaZ_ = 1.5,  distCST_ = 550.0\n",
      "ns wireless.tcl 1.5Mb 0.002 64Kb\n",
      "Starting Simulation...\n"
     ]
    },
    {
     "name": "stderr",
     "output_type": "stream",
     "text": [
      "warning: Please use -channel as shown in tcl/ex/wireless-mitf.tcl\n",
      "INITIALIZE THE LIST xListHead\n",
      "SORTING LISTS ...DONE!\n"
     ]
    },
    {
     "name": "stdout",
     "output_type": "stream",
     "text": [
      "num_nodes is set 9\n",
      "channel.cc:sendUp - Calc highestAntennaZ_ and distCST_\n",
      "highestAntennaZ_ = 1.5,  distCST_ = 550.0\n",
      "ns wireless.tcl 1.5Mb 0.002 256Kb\n",
      "Starting Simulation...\n"
     ]
    },
    {
     "name": "stderr",
     "output_type": "stream",
     "text": [
      "warning: Please use -channel as shown in tcl/ex/wireless-mitf.tcl\n",
      "INITIALIZE THE LIST xListHead\n",
      "SORTING LISTS ...DONE!\n"
     ]
    },
    {
     "name": "stdout",
     "output_type": "stream",
     "text": [
      "num_nodes is set 9\n",
      "channel.cc:sendUp - Calc highestAntennaZ_ and distCST_\n",
      "highestAntennaZ_ = 1.5,  distCST_ = 550.0\n",
      "ns wireless.tcl 1.5Mb 0.002 512Kb\n",
      "Starting Simulation...\n"
     ]
    },
    {
     "name": "stderr",
     "output_type": "stream",
     "text": [
      "warning: Please use -channel as shown in tcl/ex/wireless-mitf.tcl\n",
      "INITIALIZE THE LIST xListHead\n",
      "SORTING LISTS ...DONE!\n"
     ]
    },
    {
     "name": "stdout",
     "output_type": "stream",
     "text": [
      "num_nodes is set 9\n",
      "channel.cc:sendUp - Calc highestAntennaZ_ and distCST_\n",
      "highestAntennaZ_ = 1.5,  distCST_ = 550.0\n",
      "ns wireless.tcl 1.5Mb 0.003 64Kb\n",
      "Starting Simulation...\n"
     ]
    },
    {
     "name": "stderr",
     "output_type": "stream",
     "text": [
      "warning: Please use -channel as shown in tcl/ex/wireless-mitf.tcl\n",
      "INITIALIZE THE LIST xListHead\n",
      "SORTING LISTS ...DONE!\n"
     ]
    },
    {
     "name": "stdout",
     "output_type": "stream",
     "text": [
      "num_nodes is set 9\n",
      "channel.cc:sendUp - Calc highestAntennaZ_ and distCST_\n",
      "highestAntennaZ_ = 1.5,  distCST_ = 550.0\n",
      "ns wireless.tcl 1.5Mb 0.003 256Kb\n",
      "Starting Simulation...\n"
     ]
    },
    {
     "name": "stderr",
     "output_type": "stream",
     "text": [
      "warning: Please use -channel as shown in tcl/ex/wireless-mitf.tcl\n",
      "INITIALIZE THE LIST xListHead\n",
      "SORTING LISTS ...DONE!\n"
     ]
    },
    {
     "name": "stdout",
     "output_type": "stream",
     "text": [
      "num_nodes is set 9\n",
      "channel.cc:sendUp - Calc highestAntennaZ_ and distCST_\n",
      "highestAntennaZ_ = 1.5,  distCST_ = 550.0\n"
     ]
    },
    {
     "ename": "KeyboardInterrupt",
     "evalue": "",
     "output_type": "error",
     "traceback": [
      "\u001b[0;31m---------------------------------------------------------------------------\u001b[0m",
      "\u001b[0;31mKeyboardInterrupt\u001b[0m                         Traceback (most recent call last)",
      "\u001b[0;32m/tmp/ipykernel_35779/766504495.py\u001b[0m in \u001b[0;36m<module>\u001b[0;34m\u001b[0m\n\u001b[0;32m----> 1\u001b[0;31m \u001b[0mrun\u001b[0m\u001b[0;34m(\u001b[0m\u001b[0;34m)\u001b[0m\u001b[0;34m\u001b[0m\u001b[0;34m\u001b[0m\u001b[0m\n\u001b[0m",
      "\u001b[0;32m/tmp/ipykernel_35779/820039025.py\u001b[0m in \u001b[0;36mrun\u001b[0;34m(tcl)\u001b[0m\n\u001b[1;32m     12\u001b[0m \u001b[0;34m\u001b[0m\u001b[0m\n\u001b[1;32m     13\u001b[0m         \u001b[0mlogs\u001b[0m \u001b[0;34m=\u001b[0m \u001b[0mget_logs\u001b[0m\u001b[0;34m(\u001b[0m\u001b[0;34m)\u001b[0m\u001b[0;34m\u001b[0m\u001b[0;34m\u001b[0m\u001b[0m\n\u001b[0;32m---> 14\u001b[0;31m         \u001b[0mthroughput\u001b[0m \u001b[0;34m=\u001b[0m \u001b[0mcalculate_throughput\u001b[0m\u001b[0;34m(\u001b[0m\u001b[0mlogs\u001b[0m\u001b[0;34m,\u001b[0m \u001b[0mpacket_size\u001b[0m\u001b[0;34m)\u001b[0m\u001b[0;34m\u001b[0m\u001b[0;34m\u001b[0m\u001b[0m\n\u001b[0m\u001b[1;32m     15\u001b[0m         \u001b[0mPTR\u001b[0m \u001b[0;34m=\u001b[0m \u001b[0mcalculate_PTR\u001b[0m\u001b[0;34m(\u001b[0m\u001b[0mlogs\u001b[0m\u001b[0;34m)\u001b[0m\u001b[0;34m\u001b[0m\u001b[0;34m\u001b[0m\u001b[0m\n\u001b[1;32m     16\u001b[0m         \u001b[0mdelay\u001b[0m \u001b[0;34m=\u001b[0m \u001b[0mcalculate_delay\u001b[0m\u001b[0;34m(\u001b[0m\u001b[0mlogs\u001b[0m\u001b[0;34m)\u001b[0m\u001b[0;34m\u001b[0m\u001b[0;34m\u001b[0m\u001b[0m\n",
      "\u001b[0;31mKeyboardInterrupt\u001b[0m: "
     ]
    }
   ],
   "source": [
    "run()"
   ]
  },
  {
   "cell_type": "code",
   "execution_count": 128,
   "id": "3720cbab-6ab0-460e-aa3e-d71e23eda5c0",
   "metadata": {},
   "outputs": [
    {
     "data": {
      "text/html": [
       "<div>\n",
       "<style scoped>\n",
       "    .dataframe tbody tr th:only-of-type {\n",
       "        vertical-align: middle;\n",
       "    }\n",
       "\n",
       "    .dataframe tbody tr th {\n",
       "        vertical-align: top;\n",
       "    }\n",
       "\n",
       "    .dataframe thead th {\n",
       "        text-align: right;\n",
       "    }\n",
       "</style>\n",
       "<table border=\"1\" class=\"dataframe\">\n",
       "  <thead>\n",
       "    <tr style=\"text-align: right;\">\n",
       "      <th></th>\n",
       "      <th>Bandwidth(Mb/s)</th>\n",
       "      <th>Error Rate</th>\n",
       "      <th>Packet Size(Kb)</th>\n",
       "      <th>Throughput</th>\n",
       "      <th>PTR</th>\n",
       "      <th>Average End-To-End Delay</th>\n",
       "    </tr>\n",
       "  </thead>\n",
       "  <tbody>\n",
       "    <tr>\n",
       "      <th>0</th>\n",
       "      <td>1.5</td>\n",
       "      <td>0.001</td>\n",
       "      <td>64.0</td>\n",
       "      <td>8753.28</td>\n",
       "      <td>0.175238</td>\n",
       "      <td>40.997147</td>\n",
       "    </tr>\n",
       "    <tr>\n",
       "      <th>1</th>\n",
       "      <td>1.5</td>\n",
       "      <td>0.001</td>\n",
       "      <td>256.0</td>\n",
       "      <td>21445.12</td>\n",
       "      <td>0.429326</td>\n",
       "      <td>27.818899</td>\n",
       "    </tr>\n",
       "    <tr>\n",
       "      <th>2</th>\n",
       "      <td>1.5</td>\n",
       "      <td>0.001</td>\n",
       "      <td>512.0</td>\n",
       "      <td>28308.48</td>\n",
       "      <td>0.566728</td>\n",
       "      <td>20.860451</td>\n",
       "    </tr>\n",
       "    <tr>\n",
       "      <th>3</th>\n",
       "      <td>1.5</td>\n",
       "      <td>0.002</td>\n",
       "      <td>64.0</td>\n",
       "      <td>8753.28</td>\n",
       "      <td>0.175238</td>\n",
       "      <td>40.997147</td>\n",
       "    </tr>\n",
       "    <tr>\n",
       "      <th>4</th>\n",
       "      <td>1.5</td>\n",
       "      <td>0.002</td>\n",
       "      <td>256.0</td>\n",
       "      <td>21445.12</td>\n",
       "      <td>0.429326</td>\n",
       "      <td>27.818899</td>\n",
       "    </tr>\n",
       "    <tr>\n",
       "      <th>5</th>\n",
       "      <td>1.5</td>\n",
       "      <td>0.002</td>\n",
       "      <td>512.0</td>\n",
       "      <td>28308.48</td>\n",
       "      <td>0.566728</td>\n",
       "      <td>20.860451</td>\n",
       "    </tr>\n",
       "    <tr>\n",
       "      <th>6</th>\n",
       "      <td>1.5</td>\n",
       "      <td>0.003</td>\n",
       "      <td>64.0</td>\n",
       "      <td>8753.28</td>\n",
       "      <td>0.175238</td>\n",
       "      <td>40.997147</td>\n",
       "    </tr>\n",
       "  </tbody>\n",
       "</table>\n",
       "</div>"
      ],
      "text/plain": [
       "   Bandwidth(Mb/s)  Error Rate  Packet Size(Kb)  Throughput       PTR  \\\n",
       "0              1.5       0.001             64.0     8753.28  0.175238   \n",
       "1              1.5       0.001            256.0    21445.12  0.429326   \n",
       "2              1.5       0.001            512.0    28308.48  0.566728   \n",
       "3              1.5       0.002             64.0     8753.28  0.175238   \n",
       "4              1.5       0.002            256.0    21445.12  0.429326   \n",
       "5              1.5       0.002            512.0    28308.48  0.566728   \n",
       "6              1.5       0.003             64.0     8753.28  0.175238   \n",
       "\n",
       "   Average End-To-End Delay  \n",
       "0                 40.997147  \n",
       "1                 27.818899  \n",
       "2                 20.860451  \n",
       "3                 40.997147  \n",
       "4                 27.818899  \n",
       "5                 20.860451  \n",
       "6                 40.997147  "
      ]
     },
     "execution_count": 128,
     "metadata": {},
     "output_type": "execute_result"
    }
   ],
   "source": [
    "results"
   ]
  },
  {
   "cell_type": "code",
   "execution_count": null,
   "id": "a3ee2e7d-2042-4f45-9464-9160eb8029bc",
   "metadata": {},
   "outputs": [],
   "source": []
  }
 ],
 "metadata": {
  "kernelspec": {
   "display_name": "Python 3 (ipykernel)",
   "language": "python",
   "name": "python3"
  },
  "language_info": {
   "codemirror_mode": {
    "name": "ipython",
    "version": 3
   },
   "file_extension": ".py",
   "mimetype": "text/x-python",
   "name": "python",
   "nbconvert_exporter": "python",
   "pygments_lexer": "ipython3",
   "version": "3.7.3"
  }
 },
 "nbformat": 4,
 "nbformat_minor": 5
}
