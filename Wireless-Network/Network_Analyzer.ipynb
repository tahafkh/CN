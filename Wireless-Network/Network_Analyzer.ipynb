{
 "cells": [
  {
   "cell_type": "markdown",
   "metadata": {},
   "source": [
    "# Simulating Wireless Network Using NS2 and Python for Analysis\n",
    "\n",
    "<h3>\n",
    "    Mohammad Taha Fakharian-810198449<br>\n",
    "    Kianoush Arshi-810198438\n",
    "</h3>\n",
    "\n",
    "<h4>\n",
    "    In this project, we simulate a wireless network using NS2.<br>\n",
    "    We tested the network under different conditions, our variables are:<br>\n",
    "        <li> Bandwidth\n",
    "        <li> Error Rate\n",
    "        <li> Packet Size<br>\n",
    "    In order to execute the project, we refer you to the ReadME file.<br>\n",
    "</h4>"
   ]
  },
  {
   "cell_type": "markdown",
   "metadata": {},
   "source": [
    "## Table of Contents\n",
    "\n",
    "* [TCL File](#TCL-File)\n",
    "* [Logging in NS2](#Logging-in-NS2)\n",
    "* [Nodes in NS2](#Nodes-in-NS2)\n",
    "* [Throughput](#Throughput)\n",
    "* [PTR(Packet Transfer Rate)](#PTR(Packet-Transfer-Rate))\n",
    "* [Average End to End Delay](#Average-End-to-End-Delay)\n",
    "* [Simulating the Network](#Simulating-the-Network)\n",
    "* [Plotting the Results](#Plotting-the-results)\n",
    "* [Analysis of the Plots](#Analysis-of-the-plots)\n",
    "        \n",
    "* [References](#References)"
   ]
  },
  {
   "cell_type": "markdown",
   "metadata": {},
   "source": [
    "## TCL File\n",
    "\n",
    "The tcl file is attached to this notebook.<br>\n",
    "The script recieves 3 inputs from argv.<br>\n",
    "Mac/802_11 set bandwidth_ .... sets the bandwidth of the MAC protocol.<br>\n",
    "Message port is set to 42 and the gui window size is given.<br>\n",
    "Also, a new \"dictionary\" is initialized:\n",
    "<li> Router protocol is set as AODV.<br>\n",
    "    \n",
    "There are 9 GODs (General Operations Director) set.<br>\n",
    "God (General Operations Director) is the object that is used to store global information about the state of the environment.<br>\n",
    "An error model is implemented in a procedure: UniformErr. This model sets the error rate and generates errors in a uniformly random order.<br>\n",
    "    \n",
    "Then, the nodes are generated. Their positions are set and finally the agents are created:<br>\n",
    "    <li> Two UDP agents are created which send packets from node A to L and D to H.\n",
    "    <li> CBR is connected to UDP agents. Constant bitrate (CBR) is a term used in telecommunications, relating to the quality of service. This application sends packets with a certain bitrate.\n",
    "    <li> Null agents are connected to reciever nodes. This is because we need the nodes to not send back any packet.\n",
    "\n",
    "<br>\n",
    "The topology of the network is seen below:<br>\n",
    "<img src=\"imgs/topology.jpg\" width=\"400\" height=\"300\">"
   ]
  },
  {
   "cell_type": "code",
   "execution_count": 1,
   "metadata": {},
   "outputs": [],
   "source": [
    "import numpy as np\n",
    "import pandas as pd\n",
    "import matplotlib.pyplot as plt\n",
    "import itertools as it\n",
    "\n",
    "import re\n",
    "import os"
   ]
  },
  {
   "cell_type": "code",
   "execution_count": 2,
   "metadata": {},
   "outputs": [],
   "source": [
    "FILE = 'wireless'\n",
    "TOTAL_TIME = 100"
   ]
  },
  {
   "cell_type": "markdown",
   "metadata": {},
   "source": [
    "## Logging in NS2\n",
    "\n",
    "<h4>\n",
    "    NS2 simulator stores the network logging in a \".tr\" file.<br>\n",
    "    There are different formatting for the logs. The formatting of wireless network logs using AODV protocol and UDP agents is explained in references [1] and [2].\n",
    "</h4>"
   ]
  },
  {
   "cell_type": "code",
   "execution_count": 3,
   "metadata": {},
   "outputs": [],
   "source": [
    "def get_logs(file_name=FILE+'.tr'):\n",
    "    with open(file_name, 'r') as trace:\n",
    "        logs = [re.split(' |\\t', line.strip()) for line in trace]\n",
    "    return logs"
   ]
  },
  {
   "cell_type": "markdown",
   "metadata": {},
   "source": [
    "## Nodes in NS2\n",
    "\n",
    "<h4>\n",
    "    There are 9 nodes in the network, nodes A(0) and D(3) are the senders and nodes H(7) and I*(8) are recievers.<br>\n",
    "    Node A sends it's packets to L and node D sends to H.<br>\n",
    "    Based on the logging format of the trace file, nodes are mapped to values 0 to 8 alphabetically.<br>\n",
    "    In order to find recievers and senders of a packet, and ignore the forwarding nodes, we must check their packet type (more explanation needed). If their type is \"cbr\", this log is the original send/recieve. If the abbreviation is \"r\", it's a recieve and if it's \"s\", a send.\n",
    "</h4>\n",
    "\n",
    "<h5>\n",
    "    *Node I is named as L in the schematic.\n",
    "</h5>"
   ]
  },
  {
   "cell_type": "code",
   "execution_count": 4,
   "metadata": {},
   "outputs": [],
   "source": [
    "def make_node(node):\n",
    "    return '_' + str(ord(node) - ord('A')) + '_'\n",
    "\n",
    "def is_destination_recieve(log):\n",
    "    return log[0] == 'r' and (log[2] == make_node('H') or log[2] == make_node('I')) and log[3] == 'AGT' and log[7] == 'cbr'\n",
    "\n",
    "def is_source_send(log):\n",
    "    return log[0] == 's' and (log[2] == make_node('A') or log[2] == make_node('D')) and log[3] == 'AGT' and log[7] == 'cbr'"
   ]
  },
  {
   "cell_type": "markdown",
   "metadata": {},
   "source": [
    "## Throughput\n",
    "\n",
    "<h4>\n",
    "    Throughput is calculated using the following formula[3]:<br>\n",
    "        $$throughput = \\frac{\\text{bits recieved}}{time}$$\n",
    "</h4>"
   ]
  },
  {
   "cell_type": "code",
   "execution_count": 5,
   "metadata": {},
   "outputs": [],
   "source": [
    "def calculate_throughput(logs, packet_size):\n",
    "    recieves = 0\n",
    "    for log in logs:\n",
    "        if is_destination_recieve(log):\n",
    "            recieves += 1\n",
    "    return packet_size * recieves / TOTAL_TIME"
   ]
  },
  {
   "cell_type": "markdown",
   "metadata": {},
   "source": [
    "## PTR(Packet Transfer Rate)\n",
    "\n",
    "<h4>\n",
    "    PTR is calculated using the following formula[3]:<br>\n",
    "        $$PTR = \\frac{\\text{recieved packets}}{sent packets}$$\n",
    "</h4>"
   ]
  },
  {
   "cell_type": "code",
   "execution_count": 6,
   "metadata": {},
   "outputs": [],
   "source": [
    "def calculate_PTR(logs):\n",
    "    recieves = 0\n",
    "    sends = 0\n",
    "    for log in logs:\n",
    "        if is_destination_recieve(log):\n",
    "            recieves += 1\n",
    "        elif is_source_send(log):\n",
    "            sends += 1\n",
    "    return recieves / sends"
   ]
  },
  {
   "cell_type": "markdown",
   "metadata": {},
   "source": [
    "## Average End-to-End Delay\n",
    "\n",
    "<h4>\n",
    "    Average End-to-End Delay is calculated using the following formula[3]:<br>\n",
    "</h4>\n",
    "\n",
    "$$ AVG = \\frac{\\sum_{n=1}^{total sent packets}\\text{recieved packet time} - \\text{sent packet time}}{\\text{total sent packets}} $$"
   ]
  },
  {
   "cell_type": "code",
   "execution_count": 7,
   "metadata": {},
   "outputs": [],
   "source": [
    "def calculate_delay(logs):\n",
    "    delay = 0\n",
    "    recieves = 0\n",
    "    start_time = {}\n",
    "    for log in logs:\n",
    "        if is_destination_recieve(log):\n",
    "            delay += float(log[1]) - start_time[log[6]]\n",
    "            recieves += 1\n",
    "        elif is_source_send(log):\n",
    "            start_time[log[6]] = float(log[1])\n",
    "    return delay / recieves"
   ]
  },
  {
   "cell_type": "code",
   "execution_count": 8,
   "metadata": {},
   "outputs": [],
   "source": [
    "def prepare_cmd(initial_cmd, bandwidth, error_rate, packet_size):\n",
    "    \"\"\"\n",
    "        This function appends the arguments to the initial ns command.\n",
    "    \"\"\"\n",
    "    \n",
    "    initial_cmd += str(bandwidth) + 'Mb '\n",
    "    initial_cmd += str(error_rate) + ' '\n",
    "    initial_cmd += str(packet_size) + 'Kb'\n",
    "    return initial_cmd"
   ]
  },
  {
   "cell_type": "code",
   "execution_count": 9,
   "metadata": {},
   "outputs": [],
   "source": [
    "def delete_outputs(file=FILE):\n",
    "    \"\"\"\n",
    "        This function deletes the generated nam and trace files.\n",
    "    \"\"\"\n",
    "    if os.path.exists(file+'.nam'):\n",
    "        os.remove(file+'.nam')\n",
    "    if os.path.exists(file+'.tr'):\n",
    "        os.remove(file+'.tr')"
   ]
  },
  {
   "cell_type": "code",
   "execution_count": 10,
   "metadata": {},
   "outputs": [],
   "source": [
    "results = pd.DataFrame(columns = ['Bandwidth(Mb/s)', 'Error Rate', 'Packet Size(Kb)', 'Throughput', 'PTR', 'Average End-To-End Delay'])\n",
    "results = results.set_index(['Bandwidth(Mb/s)', 'Error Rate', 'Packet Size(Kb)'])"
   ]
  },
  {
   "cell_type": "markdown",
   "metadata": {},
   "source": [
    "## Simulating the Network\n",
    "\n",
    "<h4>\n",
    "The network is simulated with 3 different bandwidths, 10 different error rates from 0.0001 to 0.001* and 3 different packet sizes.<br>\n",
    "</h4>\n",
    "\n",
    "<h5>\n",
    "    *The error rates of the project description were between 0.00001 and 0.000001, but these rates were too low to have any change of significant value.\n",
    "</h5>"
   ]
  },
  {
   "cell_type": "code",
   "execution_count": 11,
   "metadata": {},
   "outputs": [],
   "source": [
    "def run(tcl=FILE+'.tcl'):\n",
    "    global results\n",
    "    bandwidths = np.array([0.00015, 0.00025, 0.0055])\n",
    "    error_rates = np.linspace(0.0001, 0.001, 2)\n",
    "    packet_sizes = np.array([64])\n",
    "    initial_cmd = 'ns ' + tcl + ' '\n",
    "    for bandwidth, error_rate, packet_size in it.product(bandwidths, error_rates, packet_sizes):\n",
    "        cmd = prepare_cmd(initial_cmd, bandwidth, error_rate, packet_size)\n",
    "        print(cmd)\n",
    "        print(\"----------------------------------------------\")\n",
    "        cmd += ' >/dev/null 2>&1'\n",
    "        os.system(cmd)\n",
    "        \n",
    "        logs = get_logs()\n",
    "        throughput = calculate_throughput(logs, packet_size)\n",
    "        PTR = calculate_PTR(logs)\n",
    "        delay = calculate_delay(logs)\n",
    "        results.loc[bandwidth, error_rate, packet_size] = [throughput, PTR, delay]\n",
    "        \n",
    "        delete_outputs()"
   ]
  },
  {
   "cell_type": "code",
   "execution_count": 12,
   "metadata": {
    "scrolled": true
   },
   "outputs": [
    {
     "name": "stdout",
     "output_type": "stream",
     "text": [
      "ns wireless.tcl 0.00015Mb 0.0001 64Kb\n",
      "----------------------------------------------\n",
      "ns wireless.tcl 0.00015Mb 0.001 64Kb\n",
      "----------------------------------------------\n",
      "ns wireless.tcl 0.00025Mb 0.0001 64Kb\n",
      "----------------------------------------------\n",
      "ns wireless.tcl 0.00025Mb 0.001 64Kb\n",
      "----------------------------------------------\n",
      "ns wireless.tcl 0.0055Mb 0.0001 64Kb\n",
      "----------------------------------------------\n",
      "ns wireless.tcl 0.0055Mb 0.001 64Kb\n",
      "----------------------------------------------\n"
     ]
    }
   ],
   "source": [
    "run()"
   ]
  },
  {
   "cell_type": "code",
   "execution_count": 13,
   "metadata": {},
   "outputs": [
    {
     "data": {
      "text/html": [
       "<div>\n",
       "<style scoped>\n",
       "    .dataframe tbody tr th:only-of-type {\n",
       "        vertical-align: middle;\n",
       "    }\n",
       "\n",
       "    .dataframe tbody tr th {\n",
       "        vertical-align: top;\n",
       "    }\n",
       "\n",
       "    .dataframe thead th {\n",
       "        text-align: right;\n",
       "    }\n",
       "</style>\n",
       "<table border=\"1\" class=\"dataframe\">\n",
       "  <thead>\n",
       "    <tr style=\"text-align: right;\">\n",
       "      <th></th>\n",
       "      <th></th>\n",
       "      <th></th>\n",
       "      <th>Throughput</th>\n",
       "      <th>PTR</th>\n",
       "      <th>Average End-To-End Delay</th>\n",
       "    </tr>\n",
       "    <tr>\n",
       "      <th>Bandwidth(Mb/s)</th>\n",
       "      <th>Error Rate</th>\n",
       "      <th>Packet Size(Kb)</th>\n",
       "      <th></th>\n",
       "      <th></th>\n",
       "      <th></th>\n",
       "    </tr>\n",
       "  </thead>\n",
       "  <tbody>\n",
       "    <tr>\n",
       "      <th rowspan=\"2\" valign=\"top\">0.00015</th>\n",
       "      <th>0.0001</th>\n",
       "      <th>64</th>\n",
       "      <td>8752.64</td>\n",
       "      <td>0.175226</td>\n",
       "      <td>40.988554</td>\n",
       "    </tr>\n",
       "    <tr>\n",
       "      <th>0.0010</th>\n",
       "      <th>64</th>\n",
       "      <td>8632.32</td>\n",
       "      <td>0.172817</td>\n",
       "      <td>41.349943</td>\n",
       "    </tr>\n",
       "    <tr>\n",
       "      <th rowspan=\"2\" valign=\"top\">0.00025</th>\n",
       "      <th>0.0001</th>\n",
       "      <th>64</th>\n",
       "      <td>8752.64</td>\n",
       "      <td>0.175226</td>\n",
       "      <td>40.988554</td>\n",
       "    </tr>\n",
       "    <tr>\n",
       "      <th>0.0010</th>\n",
       "      <th>64</th>\n",
       "      <td>8632.32</td>\n",
       "      <td>0.172817</td>\n",
       "      <td>41.349943</td>\n",
       "    </tr>\n",
       "    <tr>\n",
       "      <th rowspan=\"2\" valign=\"top\">0.00550</th>\n",
       "      <th>0.0001</th>\n",
       "      <th>64</th>\n",
       "      <td>8752.64</td>\n",
       "      <td>0.175226</td>\n",
       "      <td>40.988554</td>\n",
       "    </tr>\n",
       "    <tr>\n",
       "      <th>0.0010</th>\n",
       "      <th>64</th>\n",
       "      <td>8632.32</td>\n",
       "      <td>0.172817</td>\n",
       "      <td>41.349943</td>\n",
       "    </tr>\n",
       "  </tbody>\n",
       "</table>\n",
       "</div>"
      ],
      "text/plain": [
       "                                            Throughput       PTR  \\\n",
       "Bandwidth(Mb/s) Error Rate Packet Size(Kb)                         \n",
       "0.00015         0.0001     64                  8752.64  0.175226   \n",
       "                0.0010     64                  8632.32  0.172817   \n",
       "0.00025         0.0001     64                  8752.64  0.175226   \n",
       "                0.0010     64                  8632.32  0.172817   \n",
       "0.00550         0.0001     64                  8752.64  0.175226   \n",
       "                0.0010     64                  8632.32  0.172817   \n",
       "\n",
       "                                            Average End-To-End Delay  \n",
       "Bandwidth(Mb/s) Error Rate Packet Size(Kb)                            \n",
       "0.00015         0.0001     64                              40.988554  \n",
       "                0.0010     64                              41.349943  \n",
       "0.00025         0.0001     64                              40.988554  \n",
       "                0.0010     64                              41.349943  \n",
       "0.00550         0.0001     64                              40.988554  \n",
       "                0.0010     64                              41.349943  "
      ]
     },
     "execution_count": 13,
     "metadata": {},
     "output_type": "execute_result"
    }
   ],
   "source": [
    "results"
   ]
  },
  {
   "cell_type": "code",
   "execution_count": 14,
   "metadata": {},
   "outputs": [],
   "source": [
    "unindexed_results = results.reset_index()"
   ]
  },
  {
   "cell_type": "markdown",
   "metadata": {},
   "source": [
    "## Plotting the results\n",
    "\n",
    "<h4>\n",
    "    The values are stored in the results dataframe.<br>\n",
    "    We plot the calculated rates in 9 different plots:<br>\n",
    "        <li> Bandwidth to the 3 rates\n",
    "        <li> Error rate to the 3 rates\n",
    "        <li> Avg Delay to the 3 rates\n",
    "</h4>"
   ]
  },
  {
   "cell_type": "code",
   "execution_count": 15,
   "metadata": {},
   "outputs": [
    {
     "data": {
      "image/png": "[encoded data removed]",
      "text/plain": [
       "<Figure size 1080x1080 with 9 Axes>"
      ]
     },
     "metadata": {
      "needs_background": "light"
     },
     "output_type": "display_data"
    }
   ],
   "source": [
    "X = ['Bandwidth(Mb/s)', 'Error Rate', 'Packet Size(Kb)']\n",
    "Y = ['Throughput', 'PTR', 'Average End-To-End Delay']\n",
    "\n",
    "fig, axes = plt.subplots(nrows = 3, ncols = 3, figsize=(15,15))\n",
    "i,j = 0, 0\n",
    "colors = [\"r\", \"g\", \"b\"]\n",
    "\n",
    "for x in X:\n",
    "    for y in Y:\n",
    "        unindexed_results.groupby(by=x).max().plot(y=y, ax=axes[i, j], color=colors[i])\n",
    "        j += 1\n",
    "    j = 0\n",
    "    i += 1\n",
    "\n",
    "plt.tight_layout()\n",
    "plt.show()"
   ]
  },
  {
   "cell_type": "markdown",
   "metadata": {},
   "source": [
    "## Analysis of the plots\n",
    "\n",
    "<h4>\n",
    "    Based on the plots for bandwidth, the rates don't change.<br>\n",
    "    This is because the rate of our packets and their size is small compared with the given bandwidths.<br>\n",
    "    The error rate does have some effect on our calculated rates.<br>\n",
    "    By increasing the error rate, throughput and PTR decrease. This is because the rate of packets that are successfully transfered is decreased.<br>\n",
    "    Packet size has positive effect on the rates.<br>\n",
    "    Obviously, increasing the size of our packets will decrease the number of dropped packets and eventually increase throughput which is the transfered bits to total time.<br>\n",
    "    Note that increasing the packet size too much will result in the decrease of the rates. If the size is too large, an error will cause a large amount of bits to be lost and this will significantly decrease throughput.\n",
    "</h4>"
   ]
  },
  {
   "cell_type": "markdown",
   "metadata": {},
   "source": [
    "## References\n",
    "\n",
    "[1] http://nsnam.sourceforge.net/wiki/index.php/NS-2_Trace_Formats<br>\n",
    "[2] https://ns2simulator.com/ns2-trace-file-format/<br>\n",
    "[3] https://www.sfu.ca/~ljilja/ENSC427/Spring13/Projects/team11/WiFi_project_report_final.pdf<br>\n",
    "[4] https://github.com/dtaht/ns2/blob/master/tcl/edu/rts-cts/rts-cts-data-ack.tcl\n"
   ]
  }
 ],
 "metadata": {
  "kernelspec": {
   "display_name": "Python 3",
   "language": "python",
   "name": "python3"
  },
  "language_info": {
   "codemirror_mode": {
    "name": "ipython",
    "version": 3
   },
   "file_extension": ".py",
   "mimetype": "text/x-python",
   "name": "python",
   "nbconvert_exporter": "python",
   "pygments_lexer": "ipython3",
   "version": "3.8.10"
  }
 },
 "nbformat": 4,
 "nbformat_minor": 5
}
