{
 "cells": [
  {
   "cell_type": "code",
   "execution_count": null,
   "id": "e2468280-a02e-44a5-a09f-8a3866983de1",
   "metadata": {},
   "outputs": [],
   "source": [
    "import numpy as np\n",
    "import pandas as pd\n",
    "import matplotlib.pyplot as plt\n",
    "import itertools as it\n",
    "\n",
    "import re\n",
    "import os"
   ]
  },
  {
   "cell_type": "code",
   "execution_count": null,
   "id": "9d947088-dee3-436b-b738-c7f7e87e6b16",
   "metadata": {},
   "outputs": [],
   "source": [
    "FILE = 'wireless'\n",
    "TOTAL_TIME = 100"
   ]
  },
  {
   "cell_type": "code",
   "execution_count": null,
   "id": "203925dc-ea40-4d6f-b4da-ba20fe5bc9a3",
   "metadata": {},
   "outputs": [],
   "source": [
    "def get_logs(file_name=FILE+'.tr'):\n",
    "    with open(file_name, 'r') as trace:\n",
    "        logs = [re.split(' |\\t', line.strip()) for line in trace]\n",
    "    return logs"
   ]
  },
  {
   "cell_type": "code",
   "execution_count": null,
   "id": "10813aea-cafb-4e82-8442-9c62f1a3c25c",
   "metadata": {},
   "outputs": [],
   "source": [
    "def make_node(node):\n",
    "    return '_' + str(ord(node) - ord('A')) + '_'\n",
    "\n",
    "def is_destination_recieve(log):\n",
    "    return log[0] == 'r' and (log[2] == make_node('H') or log[2] == make_node('I')) and log[3] == 'AGT' and log[7] == 'cbr'\n",
    "\n",
    "def is_source_send(log):\n",
    "    return log[0] == 's' and (log[2] == make_node('A') or log[2] == make_node('D')) and log[3] == 'AGT' and log[7] == 'cbr'"
   ]
  },
  {
   "cell_type": "code",
   "execution_count": null,
   "id": "ca47b687-b468-474d-becb-7f830d6e29cf",
   "metadata": {},
   "outputs": [],
   "source": [
    "def calculate_throughput(logs, packet_size):\n",
    "    recieves = 0\n",
    "    for log in logs:\n",
    "        if is_destination_recieve(log):\n",
    "            recieves += 1\n",
    "    return packet_size * recieves / TOTAL_TIME"
   ]
  },
  {
   "cell_type": "code",
   "execution_count": null,
   "id": "64e0d481-84ee-4d1c-87cf-d94f3d72ae34",
   "metadata": {},
   "outputs": [],
   "source": [
    "def calculate_PTR(logs):\n",
    "    recieves = 0\n",
    "    sends = 0\n",
    "    for log in logs:\n",
    "        if is_destination_recieve(log):\n",
    "            recieves += 1\n",
    "        elif is_source_send(log):\n",
    "            sends += 1\n",
    "    return recieves / sends"
   ]
  },
  {
   "cell_type": "code",
   "execution_count": null,
   "id": "4565cc75-929a-4d1b-bcb8-93c35843c600",
   "metadata": {},
   "outputs": [],
   "source": [
    "def calculate_delay(logs):\n",
    "    delay = 0\n",
    "    recieves = 0\n",
    "    start_time = {}\n",
    "    for log in logs:\n",
    "        if is_destination_recieve(log):\n",
    "            delay += float(log[1]) - start_time[log[6]]\n",
    "            recieves += 1\n",
    "        elif is_source_send(log):\n",
    "            start_time[log[6]] = float(log[1])\n",
    "    return delay / recieves"
   ]
  },
  {
   "cell_type": "code",
   "execution_count": null,
   "id": "b0f85445-c92d-47f4-9ebe-f97ea480fb09",
   "metadata": {},
   "outputs": [],
   "source": [
    "def prepare_cmd(initial_cmd, bandwidth, error_rate, packet_size):\n",
    "    initial_cmd += str(bandwidth) + 'Mb '\n",
    "    initial_cmd += str(error_rate) + ' '\n",
    "    initial_cmd += str(packet_size) + 'Kb'\n",
    "    return initial_cmd"
   ]
  },
  {
   "cell_type": "code",
   "execution_count": null,
   "id": "29b2a392-13e7-431f-bcda-968663f557db",
   "metadata": {},
   "outputs": [],
   "source": [
    "def delete_outputs(file=FILE):\n",
    "    if os.path.exists(file+'.nam'):\n",
    "        os.remove(file+'.nam')\n",
    "    if os.path.exists(file+'.tr'):\n",
    "        os.remove(file+'.tr')"
   ]
  },
  {
   "cell_type": "code",
   "execution_count": null,
   "id": "bf06a748-8adc-4669-873d-3026389a3107",
   "metadata": {},
   "outputs": [],
   "source": [
    "results = pd.DataFrame(columns = ['Bandwidth(Mb/s)', 'Error Rate', 'Packet Size(Kb)', 'Throughput', 'PTR', 'Average End-To-End Delay'])\n",
    "results = results.set_index(['Bandwidth(Mb/s)', 'Error Rate', 'Packet Size(Kb)'])"
   ]
  },
  {
   "cell_type": "code",
   "execution_count": null,
   "id": "b2fa9099-dfbe-4fd6-b2c9-9cfae28d67b6",
   "metadata": {},
   "outputs": [],
   "source": [
    "def run(tcl=FILE+'.tcl'):\n",
    "    global results\n",
    "    bandwidths = np.array([1.5])#, 15, 55])\n",
    "    error_rates = np.linspace(0.001, 0.01, 10)\n",
    "    packet_sizes = np.array([64, 256, 512])\n",
    "    initial_cmd = 'ns ' + tcl + ' '\n",
    "    for bandwidth, error_rate, packet_size in it.product(bandwidths, error_rates, packet_sizes):\n",
    "        cmd = prepare_cmd(initial_cmd, bandwidth, error_rate, packet_size)\n",
    "        print(cmd)\n",
    "        print(\"----------------------------------------------\")\n",
    "        cmd += ' >/dev/null 2>&1'\n",
    "        os.system(cmd)\n",
    "        \n",
    "        logs = get_logs()\n",
    "        throughput = calculate_throughput(logs, packet_size)\n",
    "        PTR = calculate_PTR(logs)\n",
    "        delay = calculate_delay(logs)\n",
    "        results.loc[bandwidth, error_rate, packet_size] = [throughput, PTR, delay]\n",
    "        \n",
    "        delete_outputs()"
   ]
  },
  {
   "cell_type": "code",
   "execution_count": null,
   "id": "36cb6a38-168c-4b57-9ee6-10e595c66fc5",
   "metadata": {
    "scrolled": true
   },
   "outputs": [],
   "source": [
    "run()"
   ]
  },
  {
   "cell_type": "code",
   "execution_count": null,
   "id": "a3ee2e7d-2042-4f45-9464-9160eb8029bc",
   "metadata": {
    "scrolled": false
   },
   "outputs": [],
   "source": [
    "results"
   ]
  },
  {
   "cell_type": "code",
   "execution_count": null,
   "id": "637fa751",
   "metadata": {},
   "outputs": [],
   "source": []
  }
 ],
 "metadata": {
  "kernelspec": {
   "display_name": "Python 3",
   "language": "python",
   "name": "python3"
  },
  "language_info": {
   "codemirror_mode": {
    "name": "ipython",
    "version": 3
   },
   "file_extension": ".py",
   "mimetype": "text/x-python",
   "name": "python",
   "nbconvert_exporter": "python",
   "pygments_lexer": "ipython3",
   "version": "3.7.13"
  }
 },
 "nbformat": 4,
 "nbformat_minor": 5
}
